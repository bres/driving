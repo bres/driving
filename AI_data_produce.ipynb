{
  "cells": [
    {
      "cell_type": "code",
      "id": "initial_id",
      "metadata": {
        "collapsed": true,
        "ExecuteTime": {
          "end_time": "2025-06-25T08:23:33.298542Z",
          "start_time": "2025-06-25T08:23:33.294976Z"
        },
        "id": "initial_id"
      },
      "source": [
        "import numpy as np\n",
        "import pandas as pd\n",
        "import random\n",
        "from sklearn.utils import shuffle\n",
        "\n",
        "# === Παραμετρικές ρυθμίσεις ===\n",
        "num_windows = 144          # Σύνολο παραθύρων\n",
        "window_size = 5000         # Δείγματα ανά παράθυρο\n",
        "sampling_interval = 0.01   # Δευτερόλεπτα ανά δείγμα\n",
        "ambiguous_ratio = 0.3      # Ποσοστό “γκρίζων” παραθύρων (0.0–0.5)\n",
        "difficulty_level = \"easy\"  # Επιλογές: \"easy\", \"medium\", \"hard\""
      ],
      "outputs": [],
      "execution_count": null
    },
    {
      "metadata": {
        "ExecuteTime": {
          "end_time": "2025-06-25T08:23:33.380786Z",
          "start_time": "2025-06-25T08:23:33.374217Z"
        },
        "id": "d2bcb47a1fc41691"
      },
      "cell_type": "code",
      "source": [
        "# === Ρύθμιση θορύβου με βάση τη δυσκολία ===\n",
        "def get_noise_levels(level):\n",
        "    if level == \"easy\":\n",
        "        return {\"safe\": 0.1, \"risky\": 0.6, \"ambiguous\": 0.3}\n",
        "    elif level == \"medium\":\n",
        "        return {\"safe\": 0.2, \"risky\": 0.45, \"ambiguous\": 0.35}\n",
        "    elif level == \"hard\":\n",
        "        return {\"safe\": 0.3, \"risky\": 0.35, \"ambiguous\": 0.35}\n",
        "    else:\n",
        "        return {\"safe\": 0.2, \"risky\": 0.45, \"ambiguous\": 0.35}\n",
        "\n",
        "noise = get_noise_levels(difficulty_level)\n",
        "total_samples = num_windows * window_size\n",
        "time = np.round(np.arange(0, total_samples * sampling_interval, sampling_interval), 2)"
      ],
      "id": "d2bcb47a1fc41691",
      "outputs": [],
      "execution_count": null
    },
    {
      "metadata": {
        "ExecuteTime": {
          "end_time": "2025-06-25T08:23:33.495339Z",
          "start_time": "2025-06-25T08:23:33.490185Z"
        },
        "id": "2a6276d2817a418e"
      },
      "cell_type": "code",
      "source": [
        "# === Συναρτήσεις προσομοίωσης παραθύρων ===\n",
        "def simulate_window(mode):\n",
        "    t = np.arange(0, window_size * sampling_interval, sampling_interval)\n",
        "\n",
        "    if mode == \"safe\":\n",
        "        x = np.random.normal(0, noise[\"safe\"], window_size)\n",
        "        y = np.random.normal(0.3, noise[\"safe\"], window_size)\n",
        "        z = np.random.normal(9.81, noise[\"safe\"] * 0.5, window_size)\n",
        "\n",
        "    elif mode == \"risky\":\n",
        "        x = np.sin(t * 4) * 0.7 + np.random.normal(0, noise[\"risky\"], window_size)\n",
        "        y = np.sign(np.sin(t * 3)) * 1.2 + np.random.normal(0, noise[\"risky\"], window_size)\n",
        "        z = np.random.normal(10.2, noise[\"risky\"], window_size)\n",
        "\n",
        "    elif mode == \"ambiguous\":\n",
        "        safe = simulate_window(\"safe\")\n",
        "        risky = simulate_window(\"risky\")\n",
        "        alpha = np.random.uniform(0.4, 0.6)\n",
        "        return alpha * safe + (1 - alpha) * risky\n",
        "\n",
        "    else:\n",
        "        x = y = z = np.zeros(window_size)\n",
        "\n",
        "    return np.stack([x, y, z], axis=1)"
      ],
      "id": "2a6276d2817a418e",
      "outputs": [],
      "execution_count": null
    },
    {
      "metadata": {
        "ExecuteTime": {
          "end_time": "2025-06-25T08:23:36.328107Z",
          "start_time": "2025-06-25T08:23:33.570376Z"
        },
        "id": "baada853b9248fb1"
      },
      "cell_type": "code",
      "source": [
        "# === Δημιουργία δεδομένων ===\n",
        "num_ambiguous = int(num_windows * ambiguous_ratio)\n",
        "num_clear = num_windows - num_ambiguous\n",
        "num_safe = int(num_clear * 0.7)\n",
        "num_risky = num_clear - num_safe\n",
        "\n",
        "windows = []\n",
        "labels = []\n",
        "\n",
        "for _ in range(num_safe):\n",
        "    windows.append(simulate_window(\"safe\"))\n",
        "    labels.append(0)\n",
        "\n",
        "for _ in range(num_risky):\n",
        "    windows.append(simulate_window(\"risky\"))\n",
        "    labels.append(1)\n",
        "\n",
        "for _ in range(num_ambiguous):\n",
        "    windows.append(simulate_window(\"ambiguous\"))\n",
        "    labels.append(random.choice([0, 1]))\n",
        "\n",
        "# === Ανακάτεμα ===\n",
        "combined = list(zip(windows, labels))\n",
        "windows, labels = zip(*shuffle(combined, random_state=42))\n",
        "data_array = np.vstack(windows)\n",
        "\n",
        "# === Κατασκευή DataFrame ===\n",
        "df = pd.DataFrame(data_array, columns=[\"Acceleration_X_Lateral\", \"Acceleration_Y_Longitudinal\", \"Acceleration_Z_Vertical\"])\n",
        "df.insert(0, \"Global_Time_Seconds\", time)\n",
        "\n",
        "# === Εξαγωγή αρχείων ===\n",
        "df.to_csv(\"acceleration_data.csv\", index=False)\n",
        "pd.DataFrame(labels).to_csv(\"empirical_labels.csv\", header=False, index=False)"
      ],
      "id": "baada853b9248fb1",
      "outputs": [],
      "execution_count": null
    },
    {
      "metadata": {
        "ExecuteTime": {
          "end_time": "2025-06-25T08:23:36.355079Z",
          "start_time": "2025-06-25T08:23:36.352453Z"
        },
        "colab": {
          "base_uri": "https://localhost:8080/"
        },
        "id": "5a7bb03153746b21",
        "outputId": "b73a5cc4-2f44-4f64-cfea-88235d6f0214"
      },
      "cell_type": "code",
      "source": [
        "print(f\"Safe windows: {num_safe}\")\n",
        "print(f\"Risky windows: {num_risky}\")\n",
        "print(f\"Ambiguous windows: {num_ambiguous}\")\n",
        "print(f\"Σύνολο παραθύρων: {num_safe + num_risky + num_ambiguous}\")\n",
        "print(\"Ολοκληρώθηκε με επιτυχία:\")\n",
        "print(\"- acceleration_data.csv\")\n",
        "print(\"- empirical_labels.csv\")"
      ],
      "id": "5a7bb03153746b21",
      "outputs": [
        {
          "output_type": "stream",
          "name": "stdout",
          "text": [
            "Safe windows: 70\n",
            "Risky windows: 31\n",
            "Ambiguous windows: 43\n",
            "Σύνολο παραθύρων: 144\n",
            "Ολοκληρώθηκε με επιτυχία:\n",
            "- acceleration_data.csv\n",
            "- empirical_labels.csv\n"
          ]
        }
      ],
      "execution_count": null
    },
    {
      "metadata": {
        "ExecuteTime": {
          "end_time": "2025-06-25T08:23:37.103056Z",
          "start_time": "2025-06-25T08:23:36.483300Z"
        },
        "colab": {
          "base_uri": "https://localhost:8080/"
        },
        "id": "5c6074ed0ad33eb7",
        "outputId": "99ce5c48-7fcf-452c-e050-5363899103cf"
      },
      "cell_type": "code",
      "source": [
        "import matplotlib.pyplot as plt\n",
        "\n",
        "# Οπτικοποίηση ενός safe και ενός risky παραθύρου\n",
        "example_safe = simulate_window(\"safe\")\n",
        "example_risky = simulate_window(\"risky\")\n",
        "t_window = np.linspace(0, 10, window_size)\n",
        "\n",
        "fig, axs = plt.subplots(2, 1, figsize=(12, 8), sharex=True)\n",
        "\n",
        "axs[0].plot(t_window, example_safe[:, 0], label='X', color='blue')\n",
        "axs[0].plot(t_window, example_safe[:, 1], label='Y', color='green')\n",
        "axs[0].plot(t_window, example_safe[:, 2], label='Z', color='orange')\n",
        "axs[0].set_title(\"Safe Window\")\n",
        "axs[0].legend()\n",
        "axs[0].grid(True)\n",
        "\n",
        "axs[1].plot(t_window, example_risky[:, 0], label='X', color='blue')\n",
        "axs[1].plot(t_window, example_risky[:, 1], label='Y', color='green')\n",
        "axs[1].plot(t_window, example_risky[:, 2], label='Z', color='orange')\n",
        "axs[1].set_title(\"Risky Window\")\n",
        "axs[1].legend()\n",
        "axs[1].grid(True)\n",
        "\n",
        "plt.xlabel(\"Χρόνος (δευτ.)\")\n",
        "plt.tight_layout()\n",
        "plt.savefig(\"sample_plot.png\", dpi=300, bbox_inches=\"tight\")\n",
        "plt.close()\n",
        "print(\"Το γράφημα αποθηκεύτηκε ως sample_plot.png\")"
      ],
      "id": "5c6074ed0ad33eb7",
      "outputs": [
        {
          "output_type": "stream",
          "name": "stdout",
          "text": [
            "Το γράφημα αποθηκεύτηκε ως sample_plot.png\n"
          ]
        }
      ],
      "execution_count": null
    }
  ],
  "metadata": {
    "kernelspec": {
      "display_name": "Python 3",
      "language": "python",
      "name": "python3"
    },
    "language_info": {
      "codemirror_mode": {
        "name": "ipython",
        "version": 2
      },
      "file_extension": ".py",
      "mimetype": "text/x-python",
      "name": "python",
      "nbconvert_exporter": "python",
      "pygments_lexer": "ipython2",
      "version": "2.7.6"
    },
    "colab": {
      "provenance": []
    }
  },
  "nbformat": 4,
  "nbformat_minor": 5
}